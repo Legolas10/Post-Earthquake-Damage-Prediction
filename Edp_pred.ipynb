{
  "nbformat": 4,
  "nbformat_minor": 0,
  "metadata": {
    "colab": {
      "name": "Edp_pred.ipynb",
      "provenance": [],
      "collapsed_sections": [],
      "include_colab_link": true
    },
    "kernelspec": {
      "name": "python3",
      "display_name": "Python 3"
    },
    "accelerator": "GPU"
  },
  "cells": [
    {
      "cell_type": "markdown",
      "metadata": {
        "id": "view-in-github",
        "colab_type": "text"
      },
      "source": [
        "<a href=\"https://colab.research.google.com/github/Legolas10/Post-Earthquake-Damage-Prediction/blob/master/Edp_pred.ipynb\" target=\"_parent\"><img src=\"https://colab.research.google.com/assets/colab-badge.svg\" alt=\"Open In Colab\"/></a>"
      ]
    },
    {
      "cell_type": "code",
      "metadata": {
        "id": "i7ycYAJbmAti",
        "colab_type": "code",
        "colab": {}
      },
      "source": [
        "#PVO\n",
        "import numpy as np\n",
        "import scipy as sc\n",
        "import matplotlib.pyplot as plt\n",
        "#!pip install featuretools\n",
        "import featuretools\n",
        "import pandas as pd\n",
        "import seaborn as sns"
      ],
      "execution_count": 0,
      "outputs": []
    },
    {
      "cell_type": "code",
      "metadata": {
        "id": "9nO03v2bmCx7",
        "colab_type": "code",
        "outputId": "38da6fa7-a35b-4827-acf7-566145b0c55c",
        "colab": {
          "base_uri": "https://localhost:8080/",
          "height": 119
        }
      },
      "source": [
        "from google.colab import drive\n",
        "drive.mount('/content/drive')\n",
        "!ls \"/content/drive/My Drive/Lego_Colab\""
      ],
      "execution_count": 0,
      "outputs": [
        {
          "output_type": "stream",
          "text": [
            "Mounted at /content/drive\n",
            " Amazon_hackthon\t\t'LTFS hack'\n",
            " am_expert.ipynb\t\t'Movie Recommendation System (Basic)'\n",
            "'Earthquake Damage Classifier'\t NCP\n",
            " ETA_PRED\t\t\t train.csv\n",
            "'IML Hackathon'\n"
          ],
          "name": "stdout"
        }
      ]
    },
    {
      "cell_type": "code",
      "metadata": {
        "id": "4OWQxyUimM0W",
        "colab_type": "code",
        "outputId": "8e9e8444-45bd-4275-fa5e-2c8fbed639d7",
        "colab": {
          "base_uri": "https://localhost:8080/",
          "height": 34
        }
      },
      "source": [
        "cd /content/drive/My Drive/Lego_Colab/Earthquake Damage Classifier"
      ],
      "execution_count": 0,
      "outputs": [
        {
          "output_type": "stream",
          "text": [
            "/content/drive/My Drive/Lego_Colab/Earthquake Damage Classifier\n"
          ],
          "name": "stdout"
        }
      ]
    },
    {
      "cell_type": "code",
      "metadata": {
        "id": "HlSfL2WDmM7M",
        "colab_type": "code",
        "outputId": "30858f45-8bfb-45cb-88d6-4a10eabe70da",
        "colab": {
          "base_uri": "https://localhost:8080/",
          "height": 187
        }
      },
      "source": [
        "ls"
      ],
      "execution_count": 0,
      "outputs": [
        {
          "output_type": "stream",
          "text": [
            " accuracy_nn1.png           gnb_p3.pkl           predictions.csv\n",
            " cl_summary                 knn_p2.pkl           rf_p2.pkl\n",
            " cluter.png                 knn_p3.pkl           rf_p3.pkl\n",
            "'correlation matrix.png'    loss_nn1.png         secondary_use_corr.png\n",
            " count_grade.png            lr_p2.pkl            test.csv\n",
            " EDP_code.py                lr_p3.pkl            train.csv\n",
            " Edp_pred.ipynb             NEURAL_NET_summary   xgboost_accuracy.png\n",
            " elbow_km.png               new_corrmat.png      xgb_p2.pkl\n",
            "'feature importances.png'   nn_accuracy.png      xgb_p3.pkl\n",
            " gnb_p2.pkl                 old_accuracy.png\n"
          ],
          "name": "stdout"
        }
      ]
    },
    {
      "cell_type": "code",
      "metadata": {
        "id": "lFxqC5polbei",
        "colab_type": "code",
        "outputId": "01a0a046-9f7b-4250-ca91-cd080eddd36f",
        "colab": {
          "base_uri": "https://localhost:8080/",
          "height": 34
        }
      },
      "source": [
        "import numpy as np\n",
        "import pandas as pd\n",
        "import matplotlib.pyplot as plt \n",
        "import seaborn as sns\n",
        "from scipy.stats import *\n",
        "import scipy.stats\n",
        "import theano\n",
        "import keras\n",
        "import sklearn\n",
        "\n",
        "# bld_own=pd.read_csv('Building_Ownership_Use.csv')\n",
        "# bld_str=pd.read_csv('Building_Structure.csv')\n",
        "train=pd.read_csv('train.csv')\n",
        "test=pd.read_csv('test.csv')"
      ],
      "execution_count": 0,
      "outputs": [
        {
          "output_type": "stream",
          "text": [
            "Using TensorFlow backend.\n"
          ],
          "name": "stderr"
        }
      ]
    },
    {
      "cell_type": "code",
      "metadata": {
        "id": "FYyV1WRYl-8K",
        "colab_type": "code",
        "outputId": "fe02f374-0f7f-4e04-c15e-99ae2470f920",
        "colab": {
          "base_uri": "https://localhost:8080/",
          "height": 241
        }
      },
      "source": [
        "train.head()"
      ],
      "execution_count": 0,
      "outputs": [
        {
          "output_type": "execute_result",
          "data": {
            "text/html": [
              "<div>\n",
              "<style scoped>\n",
              "    .dataframe tbody tr th:only-of-type {\n",
              "        vertical-align: middle;\n",
              "    }\n",
              "\n",
              "    .dataframe tbody tr th {\n",
              "        vertical-align: top;\n",
              "    }\n",
              "\n",
              "    .dataframe thead th {\n",
              "        text-align: right;\n",
              "    }\n",
              "</style>\n",
              "<table border=\"1\" class=\"dataframe\">\n",
              "  <thead>\n",
              "    <tr style=\"text-align: right;\">\n",
              "      <th></th>\n",
              "      <th>area_assesed</th>\n",
              "      <th>building_id</th>\n",
              "      <th>damage_grade</th>\n",
              "      <th>district_id</th>\n",
              "      <th>has_geotechnical_risk</th>\n",
              "      <th>has_geotechnical_risk_fault_crack</th>\n",
              "      <th>has_geotechnical_risk_flood</th>\n",
              "      <th>has_geotechnical_risk_land_settlement</th>\n",
              "      <th>has_geotechnical_risk_landslide</th>\n",
              "      <th>has_geotechnical_risk_liquefaction</th>\n",
              "      <th>has_geotechnical_risk_other</th>\n",
              "      <th>has_geotechnical_risk_rock_fall</th>\n",
              "      <th>has_repair_started</th>\n",
              "      <th>vdcmun_id</th>\n",
              "    </tr>\n",
              "  </thead>\n",
              "  <tbody>\n",
              "    <tr>\n",
              "      <th>0</th>\n",
              "      <td>Both</td>\n",
              "      <td>24385bfd2a2</td>\n",
              "      <td>Grade 4</td>\n",
              "      <td>24</td>\n",
              "      <td>0.0</td>\n",
              "      <td>0</td>\n",
              "      <td>0</td>\n",
              "      <td>0</td>\n",
              "      <td>0</td>\n",
              "      <td>0</td>\n",
              "      <td>0</td>\n",
              "      <td>0</td>\n",
              "      <td>0.0</td>\n",
              "      <td>2489</td>\n",
              "    </tr>\n",
              "    <tr>\n",
              "      <th>1</th>\n",
              "      <td>Both</td>\n",
              "      <td>405d1bbebbf</td>\n",
              "      <td>Grade 2</td>\n",
              "      <td>44</td>\n",
              "      <td>0.0</td>\n",
              "      <td>0</td>\n",
              "      <td>0</td>\n",
              "      <td>0</td>\n",
              "      <td>0</td>\n",
              "      <td>0</td>\n",
              "      <td>0</td>\n",
              "      <td>0</td>\n",
              "      <td>1.0</td>\n",
              "      <td>4423</td>\n",
              "    </tr>\n",
              "    <tr>\n",
              "      <th>2</th>\n",
              "      <td>Both</td>\n",
              "      <td>351d9bc71f6</td>\n",
              "      <td>Grade 1</td>\n",
              "      <td>36</td>\n",
              "      <td>0.0</td>\n",
              "      <td>0</td>\n",
              "      <td>0</td>\n",
              "      <td>0</td>\n",
              "      <td>0</td>\n",
              "      <td>0</td>\n",
              "      <td>0</td>\n",
              "      <td>0</td>\n",
              "      <td>0.0</td>\n",
              "      <td>3650</td>\n",
              "    </tr>\n",
              "    <tr>\n",
              "      <th>3</th>\n",
              "      <td>Building removed</td>\n",
              "      <td>2be3a971166</td>\n",
              "      <td>Grade 5</td>\n",
              "      <td>30</td>\n",
              "      <td>0.0</td>\n",
              "      <td>0</td>\n",
              "      <td>0</td>\n",
              "      <td>0</td>\n",
              "      <td>0</td>\n",
              "      <td>0</td>\n",
              "      <td>0</td>\n",
              "      <td>0</td>\n",
              "      <td>0.0</td>\n",
              "      <td>3016</td>\n",
              "    </tr>\n",
              "    <tr>\n",
              "      <th>4</th>\n",
              "      <td>Both</td>\n",
              "      <td>34c7d073ea6</td>\n",
              "      <td>Grade 3</td>\n",
              "      <td>36</td>\n",
              "      <td>0.0</td>\n",
              "      <td>0</td>\n",
              "      <td>0</td>\n",
              "      <td>0</td>\n",
              "      <td>0</td>\n",
              "      <td>0</td>\n",
              "      <td>0</td>\n",
              "      <td>0</td>\n",
              "      <td>0.0</td>\n",
              "      <td>3627</td>\n",
              "    </tr>\n",
              "  </tbody>\n",
              "</table>\n",
              "</div>"
            ],
            "text/plain": [
              "       area_assesed  building_id  ... has_repair_started  vdcmun_id\n",
              "0              Both  24385bfd2a2  ...                0.0       2489\n",
              "1              Both  405d1bbebbf  ...                1.0       4423\n",
              "2              Both  351d9bc71f6  ...                0.0       3650\n",
              "3  Building removed  2be3a971166  ...                0.0       3016\n",
              "4              Both  34c7d073ea6  ...                0.0       3627\n",
              "\n",
              "[5 rows x 14 columns]"
            ]
          },
          "metadata": {
            "tags": []
          },
          "execution_count": 6
        }
      ]
    },
    {
      "cell_type": "code",
      "metadata": {
        "id": "HJfJXElImhN1",
        "colab_type": "code",
        "outputId": "f10e85c7-a6ea-4fdf-b04a-e041e0b76c54",
        "colab": {
          "base_uri": "https://localhost:8080/",
          "height": 258
        }
      },
      "source": [
        "test.head()"
      ],
      "execution_count": 0,
      "outputs": [
        {
          "output_type": "execute_result",
          "data": {
            "text/html": [
              "<div>\n",
              "<style scoped>\n",
              "    .dataframe tbody tr th:only-of-type {\n",
              "        vertical-align: middle;\n",
              "    }\n",
              "\n",
              "    .dataframe tbody tr th {\n",
              "        vertical-align: top;\n",
              "    }\n",
              "\n",
              "    .dataframe thead th {\n",
              "        text-align: right;\n",
              "    }\n",
              "</style>\n",
              "<table border=\"1\" class=\"dataframe\">\n",
              "  <thead>\n",
              "    <tr style=\"text-align: right;\">\n",
              "      <th></th>\n",
              "      <th>area_assesed</th>\n",
              "      <th>building_id</th>\n",
              "      <th>district_id</th>\n",
              "      <th>has_geotechnical_risk</th>\n",
              "      <th>has_geotechnical_risk_fault_crack</th>\n",
              "      <th>has_geotechnical_risk_flood</th>\n",
              "      <th>has_geotechnical_risk_land_settlement</th>\n",
              "      <th>has_geotechnical_risk_landslide</th>\n",
              "      <th>has_geotechnical_risk_liquefaction</th>\n",
              "      <th>has_geotechnical_risk_other</th>\n",
              "      <th>has_geotechnical_risk_rock_fall</th>\n",
              "      <th>has_repair_started</th>\n",
              "      <th>vdcmun_id</th>\n",
              "    </tr>\n",
              "  </thead>\n",
              "  <tbody>\n",
              "    <tr>\n",
              "      <th>0</th>\n",
              "      <td>Both</td>\n",
              "      <td>a3380c4f75</td>\n",
              "      <td>7</td>\n",
              "      <td>0.0</td>\n",
              "      <td>0</td>\n",
              "      <td>0</td>\n",
              "      <td>0</td>\n",
              "      <td>0</td>\n",
              "      <td>0</td>\n",
              "      <td>0</td>\n",
              "      <td>0</td>\n",
              "      <td>1.0</td>\n",
              "      <td>701</td>\n",
              "    </tr>\n",
              "    <tr>\n",
              "      <th>1</th>\n",
              "      <td>Both</td>\n",
              "      <td>a338a4e653</td>\n",
              "      <td>7</td>\n",
              "      <td>0.0</td>\n",
              "      <td>0</td>\n",
              "      <td>0</td>\n",
              "      <td>0</td>\n",
              "      <td>0</td>\n",
              "      <td>0</td>\n",
              "      <td>0</td>\n",
              "      <td>0</td>\n",
              "      <td>1.0</td>\n",
              "      <td>701</td>\n",
              "    </tr>\n",
              "    <tr>\n",
              "      <th>2</th>\n",
              "      <td>Building removed</td>\n",
              "      <td>a338a4e6b7</td>\n",
              "      <td>7</td>\n",
              "      <td>0.0</td>\n",
              "      <td>0</td>\n",
              "      <td>0</td>\n",
              "      <td>0</td>\n",
              "      <td>0</td>\n",
              "      <td>0</td>\n",
              "      <td>0</td>\n",
              "      <td>0</td>\n",
              "      <td>1.0</td>\n",
              "      <td>701</td>\n",
              "    </tr>\n",
              "    <tr>\n",
              "      <th>3</th>\n",
              "      <td>Both</td>\n",
              "      <td>a33a6eaa3a</td>\n",
              "      <td>7</td>\n",
              "      <td>0.0</td>\n",
              "      <td>0</td>\n",
              "      <td>0</td>\n",
              "      <td>0</td>\n",
              "      <td>0</td>\n",
              "      <td>0</td>\n",
              "      <td>0</td>\n",
              "      <td>0</td>\n",
              "      <td>1.0</td>\n",
              "      <td>701</td>\n",
              "    </tr>\n",
              "    <tr>\n",
              "      <th>4</th>\n",
              "      <td>Building removed</td>\n",
              "      <td>a33b073ff6</td>\n",
              "      <td>7</td>\n",
              "      <td>0.0</td>\n",
              "      <td>0</td>\n",
              "      <td>0</td>\n",
              "      <td>0</td>\n",
              "      <td>0</td>\n",
              "      <td>0</td>\n",
              "      <td>0</td>\n",
              "      <td>0</td>\n",
              "      <td>1.0</td>\n",
              "      <td>701</td>\n",
              "    </tr>\n",
              "  </tbody>\n",
              "</table>\n",
              "</div>"
            ],
            "text/plain": [
              "       area_assesed building_id  ...  has_repair_started  vdcmun_id\n",
              "0              Both  a3380c4f75  ...                 1.0        701\n",
              "1              Both  a338a4e653  ...                 1.0        701\n",
              "2  Building removed  a338a4e6b7  ...                 1.0        701\n",
              "3              Both  a33a6eaa3a  ...                 1.0        701\n",
              "4  Building removed  a33b073ff6  ...                 1.0        701\n",
              "\n",
              "[5 rows x 13 columns]"
            ]
          },
          "metadata": {
            "tags": []
          },
          "execution_count": 7
        }
      ]
    },
    {
      "cell_type": "code",
      "metadata": {
        "id": "xL8HFFynmiQn",
        "colab_type": "code",
        "colab": {}
      },
      "source": [
        "test_id=test['building_id'].copy()\n",
        "\n",
        "res=pd.merge(bld_own,bld_str,on=['building_id','district_id','vdcmun_id','ward_id'])\n",
        "res_train=pd.merge(res,train,on='building_id')\n",
        "res_test=pd.merge(res,test,on='building_id')\n",
        "\n",
        "rs=res_train\n",
        "columns=[]\n",
        "columns=list(res_train.columns.values)"
      ],
      "execution_count": 0,
      "outputs": []
    },
    {
      "cell_type": "code",
      "metadata": {
        "id": "asgSoNXSm6iV",
        "colab_type": "code",
        "outputId": "7df6a41d-9291-4f45-ab42-deea30bb92a9",
        "colab": {
          "base_uri": "https://localhost:8080/",
          "height": 472
        }
      },
      "source": [
        "res_train=train\n",
        "res_test=test\n",
        "cor=res_train.corr()\n",
        "sns.heatmap(cor)"
      ],
      "execution_count": 0,
      "outputs": [
        {
          "output_type": "execute_result",
          "data": {
            "text/plain": [
              "<matplotlib.axes._subplots.AxesSubplot at 0x7f0e47acfe48>"
            ]
          },
          "metadata": {
            "tags": []
          },
          "execution_count": 6
        },
        {
          "output_type": "display_data",
          "data": {
            "image/png": "[encoded data removed]",
            "text/plain": [
              "<Figure size 432x288 with 2 Axes>"
            ]
          },
          "metadata": {
            "tags": []
          }
        }
      ]
    },
    {
      "cell_type": "code",
      "metadata": {
        "id": "8zzuS46NnKPF",
        "colab_type": "code",
        "colab": {}
      },
      "source": [
        "\n",
        "#RENAME cols\n",
        "res_train=res_train.rename(columns={'vdcmun_id_y':'vdcmun_id','district_id_y':'district_id'})\n",
        "res_test=res_test.rename(columns={'vdcmun_id_y':'vdcmun_id','district_id_y':'district_id'})\n"
      ],
      "execution_count": 0,
      "outputs": []
    },
    {
      "cell_type": "code",
      "metadata": {
        "id": "0bcWYvhpuE7q",
        "colab_type": "code",
        "colab": {}
      },
      "source": [
        "y=res_train['damage_grade'].copy()\n",
        "res_train=res_train.drop(['damage_grade'],1)"
      ],
      "execution_count": 0,
      "outputs": []
    },
    {
      "cell_type": "code",
      "metadata": {
        "id": "HEzP_6SuuqmJ",
        "colab_type": "code",
        "colab": {}
      },
      "source": [
        "\n",
        "un_col=['building_id','vdcmun_id','district_id']\n",
        "res_train=res_train.drop(un_col,1)\n",
        "res_test=res_test.drop(un_col,1)\n"
      ],
      "execution_count": 0,
      "outputs": []
    },
    {
      "cell_type": "code",
      "metadata": {
        "id": "j9G0cTYCx7fG",
        "colab_type": "code",
        "outputId": "b99615f4-2ddb-4a2e-b1e7-2a9e302e6b24",
        "colab": {
          "base_uri": "https://localhost:8080/",
          "height": 272
        }
      },
      "source": [
        "train.isnull().sum()"
      ],
      "execution_count": 0,
      "outputs": [
        {
          "output_type": "execute_result",
          "data": {
            "text/plain": [
              "area_assesed                                 0\n",
              "building_id                                  0\n",
              "damage_grade                                 0\n",
              "district_id                                  0\n",
              "has_geotechnical_risk                        0\n",
              "has_geotechnical_risk_fault_crack            0\n",
              "has_geotechnical_risk_flood                  0\n",
              "has_geotechnical_risk_land_settlement        0\n",
              "has_geotechnical_risk_landslide              0\n",
              "has_geotechnical_risk_liquefaction           0\n",
              "has_geotechnical_risk_other                  0\n",
              "has_geotechnical_risk_rock_fall              0\n",
              "has_repair_started                       33417\n",
              "vdcmun_id                                    0\n",
              "dtype: int64"
            ]
          },
          "metadata": {
            "tags": []
          },
          "execution_count": 10
        }
      ]
    },
    {
      "cell_type": "code",
      "metadata": {
        "id": "zsogDmImuOUW",
        "colab_type": "code",
        "colab": {}
      },
      "source": [
        "\n",
        "#missing valuesss\n",
        "for i in res_train.columns.values:\n",
        "    r=res_train[i].mode()\n",
        "    res_train[i].fillna(r[0],inplace=True)\n",
        "\n",
        "for i in res_test.columns.values:\n",
        "    r=res_test[i].mode()\n",
        "    res_test[i].fillna(r[0],inplace=True)"
      ],
      "execution_count": 0,
      "outputs": []
    },
    {
      "cell_type": "code",
      "metadata": {
        "id": "U1ZZJRQlu1_V",
        "colab_type": "code",
        "outputId": "78f79d79-8639-4a3a-d67d-f3430f57472c",
        "colab": {
          "base_uri": "https://localhost:8080/",
          "height": 204
        }
      },
      "source": [
        "\n",
        "#check if missing still..\n",
        "isnull=res_train.isnull().sum()\n",
        "#nONE THERE..PROCEED    \n",
        "isnull"
      ],
      "execution_count": 0,
      "outputs": [
        {
          "output_type": "execute_result",
          "data": {
            "text/plain": [
              "area_assesed                             0\n",
              "has_geotechnical_risk                    0\n",
              "has_geotechnical_risk_fault_crack        0\n",
              "has_geotechnical_risk_flood              0\n",
              "has_geotechnical_risk_land_settlement    0\n",
              "has_geotechnical_risk_landslide          0\n",
              "has_geotechnical_risk_liquefaction       0\n",
              "has_geotechnical_risk_other              0\n",
              "has_geotechnical_risk_rock_fall          0\n",
              "has_repair_started                       0\n",
              "dtype: int64"
            ]
          },
          "metadata": {
            "tags": []
          },
          "execution_count": 12
        }
      ]
    },
    {
      "cell_type": "code",
      "metadata": {
        "id": "YXpuE_UouszT",
        "colab_type": "code",
        "colab": {}
      },
      "source": [
        "#TRAINING DATASET....\n",
        "cat_fea=res_train.dtypes.loc[res_train.dtypes=='object'].index\n",
        "float_fea=res_train.dtypes.loc[res_train.dtypes=='float'].index\n",
        "int_fea=res_train.dtypes.loc[res_train.dtypes=='int64'].index\n",
        "\n",
        "#dummies for categorical\n",
        "res_train=pd.get_dummies(data=res_train,columns=cat_fea)\n",
        "res_train.dtypes\n",
        "\n",
        "res_test=pd.get_dummies(data=res_test,columns=cat_fea)\n"
      ],
      "execution_count": 0,
      "outputs": []
    },
    {
      "cell_type": "code",
      "metadata": {
        "id": "bLMxm4HXu43m",
        "colab_type": "code",
        "colab": {}
      },
      "source": [
        "\n",
        "from sklearn.preprocessing import normalize\n",
        "train=normalize(res_train)\n",
        "test=normalize(res_test)\n"
      ],
      "execution_count": 0,
      "outputs": []
    },
    {
      "cell_type": "code",
      "metadata": {
        "id": "rGPNCAOXu64j",
        "colab_type": "code",
        "outputId": "471c92c1-6095-40b8-ad82-d9a611cb0160",
        "colab": {
          "base_uri": "https://localhost:8080/",
          "height": 51
        }
      },
      "source": [
        "\n",
        "#1 min\n",
        "#im using a non=linear pca...to make sure cat variables are not affected as co\n",
        "from sklearn.decomposition import PCA\n",
        "pca=PCA(n_components=5,random_state=100)\n",
        "trn_chk_pc=pca.fit_transform(res_train)\n",
        "\n",
        "trn_chk_pc[0:2]\n",
        "pca.explained_variance_ratio_"
      ],
      "execution_count": 0,
      "outputs": [
        {
          "output_type": "execute_result",
          "data": {
            "text/plain": [
              "array([9.99998180e-01, 5.87348869e-07, 3.57228227e-07, 2.94832407e-07,\n",
              "       2.72067269e-07])"
            ]
          },
          "metadata": {
            "tags": []
          },
          "execution_count": 17
        }
      ]
    },
    {
      "cell_type": "code",
      "metadata": {
        "id": "lfXkSIWKu8mE",
        "colab_type": "code",
        "outputId": "ed6dc219-5d54-4901-bb1b-983e4919dded",
        "colab": {
          "base_uri": "https://localhost:8080/",
          "height": 284
        }
      },
      "source": [
        "import seaborn as sns\n",
        "sns.countplot(y,label='count')\n",
        "plt.show()\n"
      ],
      "execution_count": 0,
      "outputs": [
        {
          "output_type": "display_data",
          "data": {
            "image/png": "[encoded data removed]",
            "text/plain": [
              "<Figure size 432x288 with 1 Axes>"
            ]
          },
          "metadata": {
            "tags": []
          }
        }
      ]
    },
    {
      "cell_type": "code",
      "metadata": {
        "id": "1aTmjvT5voaj",
        "colab_type": "code",
        "outputId": "f5da2d2b-51a9-404d-ea85-fe449aab3ca4",
        "colab": {
          "base_uri": "https://localhost:8080/",
          "height": 306
        }
      },
      "source": [
        "res_train.dtypes"
      ],
      "execution_count": 0,
      "outputs": [
        {
          "output_type": "execute_result",
          "data": {
            "text/plain": [
              "district_id                                int64\n",
              "has_geotechnical_risk                    float64\n",
              "has_geotechnical_risk_fault_crack          int64\n",
              "has_geotechnical_risk_flood                int64\n",
              "has_geotechnical_risk_land_settlement      int64\n",
              "has_geotechnical_risk_landslide            int64\n",
              "has_geotechnical_risk_liquefaction         int64\n",
              "has_geotechnical_risk_other                int64\n",
              "has_geotechnical_risk_rock_fall            int64\n",
              "has_repair_started                       float64\n",
              "vdcmun_id                                  int64\n",
              "area_assesed_Both                          uint8\n",
              "area_assesed_Building removed              uint8\n",
              "area_assesed_Exterior                      uint8\n",
              "area_assesed_Interior                      uint8\n",
              "area_assesed_Not able to inspect           uint8\n",
              "dtype: object"
            ]
          },
          "metadata": {
            "tags": []
          },
          "execution_count": 18
        }
      ]
    },
    {
      "cell_type": "code",
      "metadata": {
        "id": "Q0JVjz3Pl2Wf",
        "colab_type": "code",
        "outputId": "a270668e-9975-4061-fb14-c5910621bb05",
        "colab": {
          "base_uri": "https://localhost:8080/",
          "height": 34
        }
      },
      "source": [
        "res_train.shape"
      ],
      "execution_count": 0,
      "outputs": [
        {
          "output_type": "execute_result",
          "data": {
            "text/plain": [
              "(631761, 14)"
            ]
          },
          "metadata": {
            "tags": []
          },
          "execution_count": 14
        }
      ]
    },
    {
      "cell_type": "code",
      "metadata": {
        "id": "lljeMfxDyJEW",
        "colab_type": "code",
        "colab": {}
      },
      "source": [
        "\n",
        "un_col=['vdcmun_id','district_id']\n",
        "res_train=res_train.drop(un_col,1)\n",
        "res_test=res_test.drop(un_col,1)\n"
      ],
      "execution_count": 0,
      "outputs": []
    },
    {
      "cell_type": "code",
      "metadata": {
        "id": "Tw0kYjMgvVAX",
        "colab_type": "code",
        "outputId": "24328695-96ea-41d5-86b0-287747f0258a",
        "colab": {
          "base_uri": "https://localhost:8080/",
          "height": 301
        }
      },
      "source": [
        "sns.distplot(train['has_geotechnical_risk'],fit=norm)"
      ],
      "execution_count": 0,
      "outputs": [
        {
          "output_type": "execute_result",
          "data": {
            "text/plain": [
              "<matplotlib.axes._subplots.AxesSubplot at 0x7fd4b8ec5c50>"
            ]
          },
          "metadata": {
            "tags": []
          },
          "execution_count": 32
        },
        {
          "output_type": "display_data",
          "data": {
            "image/png": "[encoded data removed]",
            "text/plain": [
              "<Figure size 432x288 with 1 Axes>"
            ]
          },
          "metadata": {
            "tags": []
          }
        }
      ]
    },
    {
      "cell_type": "code",
      "metadata": {
        "id": "SlBeAbl4wBCD",
        "colab_type": "code",
        "outputId": "9163f615-7f1d-4735-a7c6-1672e59dc0a9",
        "colab": {
          "base_uri": "https://localhost:8080/",
          "height": 301
        }
      },
      "source": [
        "sns.distplot(train['has_geotechnical_risk_fault_crack'],fit=norm)"
      ],
      "execution_count": 0,
      "outputs": [
        {
          "output_type": "execute_result",
          "data": {
            "text/plain": [
              "<matplotlib.axes._subplots.AxesSubplot at 0x7fd4b75b4e80>"
            ]
          },
          "metadata": {
            "tags": []
          },
          "execution_count": 33
        },
        {
          "output_type": "display_data",
          "data": {
            "image/png": "[encoded data removed]",
            "text/plain": [
              "<Figure size 432x288 with 1 Axes>"
            ]
          },
          "metadata": {
            "tags": []
          }
        }
      ]
    },
    {
      "cell_type": "code",
      "metadata": {
        "id": "ARYyO4nhv3HJ",
        "colab_type": "code",
        "outputId": "b9f2d03e-0e4d-49b3-ba42-90c9ec8f0ffd",
        "colab": {
          "base_uri": "https://localhost:8080/",
          "height": 301
        }
      },
      "source": [
        "sns.distplot(train['has_geotechnical_risk_flood'],fit=norm)"
      ],
      "execution_count": 0,
      "outputs": [
        {
          "output_type": "execute_result",
          "data": {
            "text/plain": [
              "<matplotlib.axes._subplots.AxesSubplot at 0x7fd4b7476f28>"
            ]
          },
          "metadata": {
            "tags": []
          },
          "execution_count": 34
        },
        {
          "output_type": "display_data",
          "data": {
            "image/png": "[encoded data removed]",
            "text/plain": [
              "<Figure size 432x288 with 1 Axes>"
            ]
          },
          "metadata": {
            "tags": []
          }
        }
      ]
    },
    {
      "cell_type": "code",
      "metadata": {
        "id": "_LtjTFBnvcS-",
        "colab_type": "code",
        "outputId": "62432f02-bbb8-4586-eb4a-473ffb100b9f",
        "colab": {
          "base_uri": "https://localhost:8080/",
          "height": 301
        }
      },
      "source": [
        "sns.distplot(train['has_geotechnical_risk_landslide'],fit=norm)"
      ],
      "execution_count": 0,
      "outputs": [
        {
          "output_type": "execute_result",
          "data": {
            "text/plain": [
              "<matplotlib.axes._subplots.AxesSubplot at 0x7fd4b73e31d0>"
            ]
          },
          "metadata": {
            "tags": []
          },
          "execution_count": 35
        },
        {
          "output_type": "display_data",
          "data": {
            "image/png": "[encoded data removed]",
            "text/plain": [
              "<Figure size 432x288 with 1 Axes>"
            ]
          },
          "metadata": {
            "tags": []
          }
        }
      ]
    },
    {
      "cell_type": "code",
      "metadata": {
        "id": "1dpLCgAvwRGy",
        "colab_type": "code",
        "outputId": "4274f936-9db1-4df4-ae0b-73f9e8c7cdfd",
        "colab": {
          "base_uri": "https://localhost:8080/",
          "height": 301
        }
      },
      "source": [
        "sns.distplot(train['has_geotechnical_risk_other'],fit=norm)"
      ],
      "execution_count": 0,
      "outputs": [
        {
          "output_type": "execute_result",
          "data": {
            "text/plain": [
              "<matplotlib.axes._subplots.AxesSubplot at 0x7fd4bdc44c50>"
            ]
          },
          "metadata": {
            "tags": []
          },
          "execution_count": 36
        },
        {
          "output_type": "display_data",
          "data": {
            "image/png": "[encoded data removed]",
            "text/plain": [
              "<Figure size 432x288 with 1 Axes>"
            ]
          },
          "metadata": {
            "tags": []
          }
        }
      ]
    },
    {
      "cell_type": "code",
      "metadata": {
        "id": "7i1yS9Y_sQLt",
        "colab_type": "code",
        "outputId": "7c9cffab-c7fc-4bde-9690-4b80d4408ac8",
        "colab": {
          "base_uri": "https://localhost:8080/",
          "height": 255
        }
      },
      "source": [
        "from scipy.stats import skew\n",
        "for i in res_train.columns:\n",
        "  print(' Skewness of {}  -->  {} '.format(i,skew(res_train[i])))"
      ],
      "execution_count": 0,
      "outputs": [
        {
          "output_type": "stream",
          "text": [
            " Skewness of has_geotechnical_risk  -->  2.2827949543426067 \n",
            " Skewness of has_geotechnical_risk_fault_crack  -->  4.523233988857274 \n",
            " Skewness of has_geotechnical_risk_flood  -->  10.245280608930745 \n",
            " Skewness of has_geotechnical_risk_land_settlement  -->  5.092755845523542 \n",
            " Skewness of has_geotechnical_risk_landslide  -->  3.381809462163623 \n",
            " Skewness of has_geotechnical_risk_liquefaction  -->  20.69392427209432 \n",
            " Skewness of has_geotechnical_risk_other  -->  30.65824403525399 \n",
            " Skewness of has_geotechnical_risk_rock_fall  -->  5.072252157657039 \n",
            " Skewness of has_repair_started  -->  0.8762160881370065 \n",
            " Skewness of area_assesed_Both  -->  -0.43484447859563824 \n",
            " Skewness of area_assesed_Building removed  -->  1.4395739618818455 \n",
            " Skewness of area_assesed_Exterior  -->  1.8882219822303272 \n",
            " Skewness of area_assesed_Interior  -->  18.560877843071722 \n",
            " Skewness of area_assesed_Not able to inspect  -->  5.9280888310249855 \n"
          ],
          "name": "stdout"
        }
      ]
    },
    {
      "cell_type": "code",
      "metadata": {
        "id": "9ZurwLUHwW3l",
        "colab_type": "code",
        "colab": {}
      },
      "source": [
        "from sklearn.ensemble import RandomForestClassifier\n",
        "rf=RandomForestClassifier(n_estimators=100,max_features='auto')\n",
        "rf.fit(res_train,y) \n",
        "rank=np.argsort(-rf.feature_importances_)\n"
      ],
      "execution_count": 0,
      "outputs": []
    },
    {
      "cell_type": "code",
      "metadata": {
        "id": "iaIX2oMyxBl3",
        "colab_type": "code",
        "outputId": "f88a3432-9285-4a33-95dd-ec9b27daaddb",
        "colab": {
          "base_uri": "https://localhost:8080/",
          "height": 286
        }
      },
      "source": [
        "sns.barplot(x=rf.feature_importances_[rank],y=res_train.columns.values[rank])\n"
      ],
      "execution_count": 0,
      "outputs": [
        {
          "output_type": "execute_result",
          "data": {
            "text/plain": [
              "<matplotlib.axes._subplots.AxesSubplot at 0x7f49df790978>"
            ]
          },
          "metadata": {
            "tags": []
          },
          "execution_count": 21
        },
        {
          "output_type": "display_data",
          "data": {
            "image/png": "[encoded data removed]",
            "text/plain": [
              "<Figure size 432x288 with 1 Axes>"
            ]
          },
          "metadata": {
            "tags": []
          }
        }
      ]
    },
    {
      "cell_type": "code",
      "metadata": {
        "id": "WD3hAJOVyiPY",
        "colab_type": "code",
        "outputId": "a31899cc-5d27-4f1b-fef7-21eae88e64df",
        "colab": {
          "base_uri": "https://localhost:8080/",
          "height": 241
        }
      },
      "source": [
        "res_train.head()"
      ],
      "execution_count": 0,
      "outputs": [
        {
          "output_type": "execute_result",
          "data": {
            "text/html": [
              "<div>\n",
              "<style scoped>\n",
              "    .dataframe tbody tr th:only-of-type {\n",
              "        vertical-align: middle;\n",
              "    }\n",
              "\n",
              "    .dataframe tbody tr th {\n",
              "        vertical-align: top;\n",
              "    }\n",
              "\n",
              "    .dataframe thead th {\n",
              "        text-align: right;\n",
              "    }\n",
              "</style>\n",
              "<table border=\"1\" class=\"dataframe\">\n",
              "  <thead>\n",
              "    <tr style=\"text-align: right;\">\n",
              "      <th></th>\n",
              "      <th>has_geotechnical_risk</th>\n",
              "      <th>has_geotechnical_risk_fault_crack</th>\n",
              "      <th>has_geotechnical_risk_flood</th>\n",
              "      <th>has_geotechnical_risk_land_settlement</th>\n",
              "      <th>has_geotechnical_risk_landslide</th>\n",
              "      <th>has_geotechnical_risk_liquefaction</th>\n",
              "      <th>has_geotechnical_risk_other</th>\n",
              "      <th>has_geotechnical_risk_rock_fall</th>\n",
              "      <th>has_repair_started</th>\n",
              "      <th>area_assesed_Both</th>\n",
              "      <th>area_assesed_Building removed</th>\n",
              "      <th>area_assesed_Exterior</th>\n",
              "      <th>area_assesed_Interior</th>\n",
              "      <th>area_assesed_Not able to inspect</th>\n",
              "    </tr>\n",
              "  </thead>\n",
              "  <tbody>\n",
              "    <tr>\n",
              "      <th>0</th>\n",
              "      <td>0.0</td>\n",
              "      <td>0</td>\n",
              "      <td>0</td>\n",
              "      <td>0</td>\n",
              "      <td>0</td>\n",
              "      <td>0</td>\n",
              "      <td>0</td>\n",
              "      <td>0</td>\n",
              "      <td>0.0</td>\n",
              "      <td>1</td>\n",
              "      <td>0</td>\n",
              "      <td>0</td>\n",
              "      <td>0</td>\n",
              "      <td>0</td>\n",
              "    </tr>\n",
              "    <tr>\n",
              "      <th>1</th>\n",
              "      <td>0.0</td>\n",
              "      <td>0</td>\n",
              "      <td>0</td>\n",
              "      <td>0</td>\n",
              "      <td>0</td>\n",
              "      <td>0</td>\n",
              "      <td>0</td>\n",
              "      <td>0</td>\n",
              "      <td>1.0</td>\n",
              "      <td>1</td>\n",
              "      <td>0</td>\n",
              "      <td>0</td>\n",
              "      <td>0</td>\n",
              "      <td>0</td>\n",
              "    </tr>\n",
              "    <tr>\n",
              "      <th>2</th>\n",
              "      <td>0.0</td>\n",
              "      <td>0</td>\n",
              "      <td>0</td>\n",
              "      <td>0</td>\n",
              "      <td>0</td>\n",
              "      <td>0</td>\n",
              "      <td>0</td>\n",
              "      <td>0</td>\n",
              "      <td>0.0</td>\n",
              "      <td>1</td>\n",
              "      <td>0</td>\n",
              "      <td>0</td>\n",
              "      <td>0</td>\n",
              "      <td>0</td>\n",
              "    </tr>\n",
              "    <tr>\n",
              "      <th>3</th>\n",
              "      <td>0.0</td>\n",
              "      <td>0</td>\n",
              "      <td>0</td>\n",
              "      <td>0</td>\n",
              "      <td>0</td>\n",
              "      <td>0</td>\n",
              "      <td>0</td>\n",
              "      <td>0</td>\n",
              "      <td>0.0</td>\n",
              "      <td>0</td>\n",
              "      <td>1</td>\n",
              "      <td>0</td>\n",
              "      <td>0</td>\n",
              "      <td>0</td>\n",
              "    </tr>\n",
              "    <tr>\n",
              "      <th>4</th>\n",
              "      <td>0.0</td>\n",
              "      <td>0</td>\n",
              "      <td>0</td>\n",
              "      <td>0</td>\n",
              "      <td>0</td>\n",
              "      <td>0</td>\n",
              "      <td>0</td>\n",
              "      <td>0</td>\n",
              "      <td>0.0</td>\n",
              "      <td>1</td>\n",
              "      <td>0</td>\n",
              "      <td>0</td>\n",
              "      <td>0</td>\n",
              "      <td>0</td>\n",
              "    </tr>\n",
              "  </tbody>\n",
              "</table>\n",
              "</div>"
            ],
            "text/plain": [
              "   has_geotechnical_risk  ...  area_assesed_Not able to inspect\n",
              "0                    0.0  ...                                 0\n",
              "1                    0.0  ...                                 0\n",
              "2                    0.0  ...                                 0\n",
              "3                    0.0  ...                                 0\n",
              "4                    0.0  ...                                 0\n",
              "\n",
              "[5 rows x 14 columns]"
            ]
          },
          "metadata": {
            "tags": []
          },
          "execution_count": 27
        }
      ]
    },
    {
      "cell_type": "code",
      "metadata": {
        "id": "reP4K1oxy0bC",
        "colab_type": "code",
        "colab": {}
      },
      "source": [
        "from sklearn.model_selection import train_test_split\n",
        "x_train,x_test,y_train,y_test=train_test_split(res_train[:100000],y[:100000],test_size=0.20,random_state=0,shuffle=True)\n"
      ],
      "execution_count": 0,
      "outputs": []
    },
    {
      "cell_type": "code",
      "metadata": {
        "id": "TTXyXA3Ly9Ug",
        "colab_type": "code",
        "outputId": "b434128a-eaa3-4013-aa57-9cfd9c8875d3",
        "colab": {
          "base_uri": "https://localhost:8080/",
          "height": 136
        }
      },
      "source": [
        "\n",
        "#5 min\n",
        "from sklearn.tree import DecisionTreeClassifier\n",
        "from sklearn.ensemble import RandomForestClassifier\n",
        "ds=DecisionTreeClassifier()\n",
        "ds.fit(x_train,y_train)\n",
        "rf=RandomForestClassifier(n_estimators=100,max_features='auto')\n",
        "rf.fit(x_train,y_train)"
      ],
      "execution_count": 0,
      "outputs": [
        {
          "output_type": "execute_result",
          "data": {
            "text/plain": [
              "RandomForestClassifier(bootstrap=True, class_weight=None, criterion='gini',\n",
              "                       max_depth=None, max_features='auto', max_leaf_nodes=None,\n",
              "                       min_impurity_decrease=0.0, min_impurity_split=None,\n",
              "                       min_samples_leaf=1, min_samples_split=2,\n",
              "                       min_weight_fraction_leaf=0.0, n_estimators=100,\n",
              "                       n_jobs=None, oob_score=False, random_state=None,\n",
              "                       verbose=0, warm_start=False)"
            ]
          },
          "metadata": {
            "tags": []
          },
          "execution_count": 30
        }
      ]
    },
    {
      "cell_type": "code",
      "metadata": {
        "id": "ON6jCLvKzE4W",
        "colab_type": "code",
        "colab": {}
      },
      "source": [
        "\n",
        "# from sklearn.model_selection import GridSearchCV\n",
        "# parameters=[{'n_estimators':[100]}]\n",
        "# #For integer/None inputs, if the estimator is a classifier and y is either....\n",
        "# #binary or multiclass, StratifiedKFold is used. In all other cases, KFold is used.\n",
        "# gs=GridSearchCV(estimator=rf,param_grid=parameters,scoring='accuracy',cv=3,n_jobs=-1)\n",
        "# gs.fit(x_train,y_train)\n",
        "# b_est=gs.best_estimator_\n",
        "# b_score=gs.best_score_\n",
        "# b_para=gs.best_params_"
      ],
      "execution_count": 0,
      "outputs": []
    },
    {
      "cell_type": "code",
      "metadata": {
        "id": "ycssbO5VzKgS",
        "colab_type": "code",
        "outputId": "03f69be4-ad8e-4e70-cf79-743b1b6d0200",
        "colab": {
          "base_uri": "https://localhost:8080/",
          "height": 85
        }
      },
      "source": [
        "\n",
        "import xgboost\n",
        "from xgboost import XGBClassifier\n",
        "xgb=XGBClassifier(n_estimators=200,objective='multi:softmax',learning_rate=0.001)\n",
        "xgb.fit(x_train,y_train)\n",
        "xgb.base_score\n",
        "xgb.feature_importances_"
      ],
      "execution_count": 0,
      "outputs": [
        {
          "output_type": "execute_result",
          "data": {
            "text/plain": [
              "array([7.7357754e-04, 1.3105889e-03, 3.6462271e-04, 6.6439353e-04,\n",
              "       2.3842319e-04, 0.0000000e+00, 0.0000000e+00, 3.8719554e-05,\n",
              "       2.2482041e-02, 5.8037019e-01, 2.6271728e-01, 9.6812367e-02,\n",
              "       9.5704850e-03, 2.4657367e-02], dtype=float32)"
            ]
          },
          "metadata": {
            "tags": []
          },
          "execution_count": 31
        }
      ]
    },
    {
      "cell_type": "code",
      "metadata": {
        "id": "HLSoyXLJzNIw",
        "colab_type": "code",
        "outputId": "b45bee2c-312c-43e1-c548-9f3bf1021eb9",
        "colab": {
          "base_uri": "https://localhost:8080/",
          "height": 34
        }
      },
      "source": [
        "sco=xgb.base_score\n",
        "print(' XGB Acuracy score ',sco)"
      ],
      "execution_count": 0,
      "outputs": [
        {
          "output_type": "execute_result",
          "data": {
            "text/plain": [
              "0.5"
            ]
          },
          "metadata": {
            "tags": []
          },
          "execution_count": 32
        }
      ]
    },
    {
      "cell_type": "code",
      "metadata": {
        "id": "NfmH_O9y-Wls",
        "colab_type": "code",
        "outputId": "2096237f-5194-4a10-f8e0-051ced3ecb54",
        "colab": {
          "base_uri": "https://localhost:8080/",
          "height": 156
        }
      },
      "source": [
        "from sklearn.neighbors import KNeighborsClassifier\n",
        "from sklearn.linear_model import LogisticRegression\n",
        "from sklearn.naive_bayes import GaussianNB\n",
        "from sklearn.model_selection import cross_val_score\n",
        "from mlxtend.classifier import StackingClassifier\n",
        "from sklearn.metrics import accuracy_score\n",
        "\n",
        "knn=KNeighborsClassifier(n_neighbors=4)\n",
        "gnb = GaussianNB()\n",
        "lr = LogisticRegression()\n",
        "\n",
        "lr.fit(x_train1,y_train1)\n",
        "gnb.fit(x_train1,y_train1)\n",
        "knn.fit(x_train1,y_train1)"
      ],
      "execution_count": 0,
      "outputs": [
        {
          "output_type": "stream",
          "text": [
            "/usr/local/lib/python3.6/dist-packages/sklearn/linear_model/logistic.py:432: FutureWarning: Default solver will be changed to 'lbfgs' in 0.22. Specify a solver to silence this warning.\n",
            "  FutureWarning)\n",
            "/usr/local/lib/python3.6/dist-packages/sklearn/linear_model/logistic.py:469: FutureWarning: Default multi_class will be changed to 'auto' in 0.22. Specify the multi_class option to silence this warning.\n",
            "  \"this warning.\", FutureWarning)\n"
          ],
          "name": "stderr"
        },
        {
          "output_type": "execute_result",
          "data": {
            "text/plain": [
              "KNeighborsClassifier(algorithm='auto', leaf_size=30, metric='minkowski',\n",
              "                     metric_params=None, n_jobs=None, n_neighbors=4, p=2,\n",
              "                     weights='uniform')"
            ]
          },
          "metadata": {
            "tags": []
          },
          "execution_count": 44
        }
      ]
    },
    {
      "cell_type": "code",
      "metadata": {
        "id": "ydIQqybfzzWF",
        "colab_type": "code",
        "outputId": "af3feec3-3998-41cb-bdd4-c69f60870846",
        "colab": {
          "base_uri": "https://localhost:8080/",
          "height": 1000
        }
      },
      "source": [
        "\n",
        "#reports\n",
        "# TO TABULATE ALL METRIC VALUES\n",
        "from sklearn.metrics import classification_report\n",
        "lr_report=classification_report(y_test,lr.predict(x_test))\n",
        "print(\"Logistic REGRESSION  :\\n \",lr_report)\n",
        "\n",
        "print(\" ########################\\n\")\n",
        "rf_report=classification_report(y_test,rf.predict(x_test))\n",
        "print(\"RANDOM FOREST :\\n \",rf_report)\n",
        "\n",
        "print(\" ########################\\n\")\n",
        "knn_report=classification_report(y_test,knn.predict(x_test))\n",
        "print(\"KNN :\\n \",knn_report)\n",
        "\n",
        "\n",
        "print(\"########################\\n\")\n",
        "xgb_report=classification_report(y_test,xgb.predict(x_test))\n",
        "print(\"XGBOOST : \\n\" ,xgb_report)\n",
        "\n",
        "print(\"########################\\n\")\n",
        "nb_report=classification_report(y_test,gnb.predict(x_test))\n",
        "print(\"MULTINOMIAL NAIVE BAYES :\\n \",nb_report)\n"
      ],
      "execution_count": 0,
      "outputs": [
        {
          "output_type": "stream",
          "text": [
            "Logistic REGRESSION  :\n",
            "                precision    recall  f1-score   support\n",
            "\n",
            "     Grade 1       0.32      0.01      0.02     12178\n",
            "     Grade 2       0.38      0.01      0.01     16807\n",
            "     Grade 3       0.35      0.38      0.37     24613\n",
            "     Grade 4       0.35      0.61      0.44     30526\n",
            "     Grade 5       0.81      0.89      0.85     42229\n",
            "\n",
            "    accuracy                           0.52    126353\n",
            "   macro avg       0.44      0.38      0.34    126353\n",
            "weighted avg       0.50      0.52      0.47    126353\n",
            "\n",
            " ########################\n",
            "\n",
            "RANDOM FOREST :\n",
            "                precision    recall  f1-score   support\n",
            "\n",
            "     Grade 1       0.30      0.01      0.02     12178\n",
            "     Grade 2       0.34      0.00      0.00     16807\n",
            "     Grade 3       0.35      0.37      0.36     24613\n",
            "     Grade 4       0.35      0.62      0.45     30526\n",
            "     Grade 5       0.81      0.89      0.85     42229\n",
            "\n",
            "    accuracy                           0.52    126353\n",
            "   macro avg       0.43      0.38      0.34    126353\n",
            "weighted avg       0.50      0.52      0.46    126353\n",
            "\n",
            " ########################\n",
            "\n",
            "KNN :\n",
            "                precision    recall  f1-score   support\n",
            "\n",
            "     Grade 1       0.18      0.66      0.28     12178\n",
            "     Grade 2       0.25      0.07      0.10     16807\n",
            "     Grade 3       0.34      0.03      0.06     24613\n",
            "     Grade 4       0.28      0.40      0.33     30526\n",
            "     Grade 5       0.98      0.70      0.82     42229\n",
            "\n",
            "    accuracy                           0.41    126353\n",
            "   macro avg       0.40      0.37      0.32    126353\n",
            "weighted avg       0.51      0.41      0.40    126353\n",
            "\n",
            "########################\n",
            "\n"
          ],
          "name": "stdout"
        },
        {
          "output_type": "stream",
          "text": [
            "/usr/local/lib/python3.6/dist-packages/sklearn/metrics/classification.py:1437: UndefinedMetricWarning: Precision and F-score are ill-defined and being set to 0.0 in labels with no predicted samples.\n",
            "  'precision', 'predicted', average, warn_for)\n"
          ],
          "name": "stderr"
        },
        {
          "output_type": "stream",
          "text": [
            "XGBOOST : \n",
            "               precision    recall  f1-score   support\n",
            "\n",
            "     Grade 1       0.00      0.00      0.00     12178\n",
            "     Grade 2       0.00      0.00      0.00     16807\n",
            "     Grade 3       0.34      0.41      0.37     24613\n",
            "     Grade 4       0.35      0.58      0.44     30526\n",
            "     Grade 5       0.81      0.89      0.85     42229\n",
            "\n",
            "    accuracy                           0.52    126353\n",
            "   macro avg       0.30      0.38      0.33    126353\n",
            "weighted avg       0.42      0.52      0.46    126353\n",
            "\n",
            "########################\n",
            "\n",
            "MULTINOMIAL NAIVE BAYES :\n",
            "                precision    recall  f1-score   support\n",
            "\n",
            "     Grade 1       0.19      0.02      0.03     12178\n",
            "     Grade 2       0.21      0.84      0.33     16807\n",
            "     Grade 3       0.32      0.04      0.07     24613\n",
            "     Grade 4       0.34      0.21      0.26     30526\n",
            "     Grade 5       0.89      0.73      0.80     42229\n",
            "\n",
            "    accuracy                           0.42    126353\n",
            "   macro avg       0.39      0.37      0.30    126353\n",
            "weighted avg       0.49      0.42      0.39    126353\n",
            "\n"
          ],
          "name": "stdout"
        }
      ]
    },
    {
      "cell_type": "code",
      "metadata": {
        "id": "qdACdw2UzQfM",
        "colab_type": "code",
        "outputId": "dc3d5488-2b13-4b63-9ac0-54eeda9f1d44",
        "colab": {
          "base_uri": "https://localhost:8080/",
          "height": 1000
        }
      },
      "source": [
        "\n",
        "yt=pd.get_dummies(y_train)\n",
        "yt=np.array(yt)\n",
        "\n",
        "yte=pd.get_dummies(y_test)\n",
        "yte=np.array(yte)\n",
        "\n",
        "\n",
        "import keras\n",
        "from keras.models import Sequential\n",
        "from keras.layers import Dense\n",
        "from keras.layers import Dropout\n",
        "from keras.layers import Activation\n",
        "from keras.callbacks import History\n",
        "his=History()\n",
        "from keras import regularizers\n",
        "#input layer\n",
        "cl=Sequential()\n",
        "\n",
        "#hidden1\n",
        "cl.add(Dense(output_dim=700,activation='relu',init='uniform',input_shape=x_train.shape[1:],kernel_regularizer=regularizers.l2(0.0001)))\n",
        "cl.add(Dropout(0.20))\n",
        "#hidden2\n",
        "cl.add(Dense(output_dim=500,activation='relu',init='uniform',kernel_regularizer=regularizers.l2(0.0001)))\n",
        "cl.add(Dropout(0.20))\n",
        "\n",
        "cl.add(Dense(output_dim=500,activation='relu',init='uniform',kernel_regularizer=regularizers.l2(0.0001)))\n",
        "cl.add(Dropout(0.20))\n",
        "\n",
        "\n",
        "cl.add(Dense(output_dim=500,activation='relu',init='uniform',kernel_regularizer=regularizers.l2(0.0001)))\n",
        "cl.add(Dropout(0.20))\n",
        "\n",
        "\n",
        "cl.add(Dense(output_dim=100,activation='relu',init='uniform',kernel_regularizer=regularizers.l2(0.0001)))\n",
        "#output layer\n",
        "cl.add(Dense(output_dim=5,init='uniform',activation='softmax'))\n",
        "\n",
        "cl.compile(optimizer='adam',loss='categorical_crossentropy',metrics=['accuracy'])\n",
        "\n",
        "cl.summary()\n",
        "\n",
        "cl.fit(x_train,yt,epochs=20,shuffle=True,batch_size=200,validation_data=(x_test,yte),callbacks=[his])\n"
      ],
      "execution_count": 0,
      "outputs": [
        {
          "output_type": "stream",
          "text": [
            "WARNING:tensorflow:From /usr/local/lib/python3.6/dist-packages/keras/backend/tensorflow_backend.py:66: The name tf.get_default_graph is deprecated. Please use tf.compat.v1.get_default_graph instead.\n",
            "\n",
            "WARNING:tensorflow:From /usr/local/lib/python3.6/dist-packages/keras/backend/tensorflow_backend.py:3733: calling dropout (from tensorflow.python.ops.nn_ops) with keep_prob is deprecated and will be removed in a future version.\n",
            "Instructions for updating:\n",
            "Please use `rate` instead of `keep_prob`. Rate should be set to `rate = 1 - keep_prob`.\n",
            "WARNING:tensorflow:From /usr/local/lib/python3.6/dist-packages/keras/optimizers.py:793: The name tf.train.Optimizer is deprecated. Please use tf.compat.v1.train.Optimizer instead.\n",
            "\n"
          ],
          "name": "stdout"
        },
        {
          "output_type": "stream",
          "text": [
            "/usr/local/lib/python3.6/dist-packages/ipykernel_launcher.py:21: UserWarning: Update your `Dense` call to the Keras 2 API: `Dense(activation=\"relu\", input_shape=(14,), kernel_regularizer=<keras.reg..., units=700, kernel_initializer=\"uniform\")`\n",
            "/usr/local/lib/python3.6/dist-packages/ipykernel_launcher.py:24: UserWarning: Update your `Dense` call to the Keras 2 API: `Dense(activation=\"relu\", kernel_regularizer=<keras.reg..., units=500, kernel_initializer=\"uniform\")`\n",
            "/usr/local/lib/python3.6/dist-packages/ipykernel_launcher.py:27: UserWarning: Update your `Dense` call to the Keras 2 API: `Dense(activation=\"relu\", kernel_regularizer=<keras.reg..., units=500, kernel_initializer=\"uniform\")`\n",
            "/usr/local/lib/python3.6/dist-packages/ipykernel_launcher.py:31: UserWarning: Update your `Dense` call to the Keras 2 API: `Dense(activation=\"relu\", kernel_regularizer=<keras.reg..., units=500, kernel_initializer=\"uniform\")`\n",
            "/usr/local/lib/python3.6/dist-packages/ipykernel_launcher.py:35: UserWarning: Update your `Dense` call to the Keras 2 API: `Dense(activation=\"relu\", kernel_regularizer=<keras.reg..., units=100, kernel_initializer=\"uniform\")`\n",
            "/usr/local/lib/python3.6/dist-packages/ipykernel_launcher.py:37: UserWarning: Update your `Dense` call to the Keras 2 API: `Dense(activation=\"softmax\", units=5, kernel_initializer=\"uniform\")`\n"
          ],
          "name": "stderr"
        },
        {
          "output_type": "stream",
          "text": [
            "Model: \"sequential_1\"\n",
            "_________________________________________________________________\n",
            "Layer (type)                 Output Shape              Param #   \n",
            "=================================================================\n",
            "dense_1 (Dense)              (None, 700)               10500     \n",
            "_________________________________________________________________\n",
            "dropout_1 (Dropout)          (None, 700)               0         \n",
            "_________________________________________________________________\n",
            "dense_2 (Dense)              (None, 500)               350500    \n",
            "_________________________________________________________________\n",
            "dropout_2 (Dropout)          (None, 500)               0         \n",
            "_________________________________________________________________\n",
            "dense_3 (Dense)              (None, 500)               250500    \n",
            "_________________________________________________________________\n",
            "dropout_3 (Dropout)          (None, 500)               0         \n",
            "_________________________________________________________________\n",
            "dense_4 (Dense)              (None, 500)               250500    \n",
            "_________________________________________________________________\n",
            "dropout_4 (Dropout)          (None, 500)               0         \n",
            "_________________________________________________________________\n",
            "dense_5 (Dense)              (None, 100)               50100     \n",
            "_________________________________________________________________\n",
            "dense_6 (Dense)              (None, 5)                 505       \n",
            "=================================================================\n",
            "Total params: 912,605\n",
            "Trainable params: 912,605\n",
            "Non-trainable params: 0\n",
            "_________________________________________________________________\n",
            "WARNING:tensorflow:From /usr/local/lib/python3.6/dist-packages/tensorflow_core/python/ops/math_grad.py:1424: where (from tensorflow.python.ops.array_ops) is deprecated and will be removed in a future version.\n",
            "Instructions for updating:\n",
            "Use tf.where in 2.0, which has the same broadcast rule as np.where\n",
            "Train on 842980 samples, validate on 126353 samples\n",
            "Epoch 1/20\n",
            "842980/842980 [==============================] - 50s 59us/step - loss: 1.2659 - acc: 0.4254 - val_loss: 1.1613 - val_acc: 0.4281\n",
            "Epoch 2/20\n",
            "842980/842980 [==============================] - 44s 53us/step - loss: 1.2587 - acc: 0.4287 - val_loss: 1.1475 - val_acc: 0.4513\n",
            "Epoch 3/20\n",
            "842980/842980 [==============================] - 45s 53us/step - loss: 1.2575 - acc: 0.4290 - val_loss: 1.1527 - val_acc: 0.4299\n",
            "Epoch 4/20\n",
            "842980/842980 [==============================] - 45s 53us/step - loss: 1.2568 - acc: 0.4291 - val_loss: 1.1497 - val_acc: 0.4452\n",
            "Epoch 5/20\n",
            "842980/842980 [==============================] - 44s 53us/step - loss: 1.2564 - acc: 0.4293 - val_loss: 1.1448 - val_acc: 0.4482\n",
            "Epoch 6/20\n",
            "842980/842980 [==============================] - 44s 52us/step - loss: 1.2563 - acc: 0.4294 - val_loss: 1.1465 - val_acc: 0.4481\n",
            "Epoch 7/20\n",
            "842980/842980 [==============================] - 44s 53us/step - loss: 1.2558 - acc: 0.4297 - val_loss: 1.1445 - val_acc: 0.4494\n",
            "Epoch 8/20\n",
            "842980/842980 [==============================] - 44s 53us/step - loss: 1.2556 - acc: 0.4300 - val_loss: 1.1429 - val_acc: 0.4488\n",
            "Epoch 9/20\n",
            "842980/842980 [==============================] - 44s 53us/step - loss: 1.2555 - acc: 0.4299 - val_loss: 1.1495 - val_acc: 0.4306\n",
            "Epoch 10/20\n",
            "842980/842980 [==============================] - 44s 53us/step - loss: 1.2554 - acc: 0.4298 - val_loss: 1.1436 - val_acc: 0.4484\n",
            "Epoch 11/20\n",
            "842980/842980 [==============================] - 45s 53us/step - loss: 1.2553 - acc: 0.4297 - val_loss: 1.1415 - val_acc: 0.4488\n",
            "Epoch 12/20\n",
            "842980/842980 [==============================] - 45s 53us/step - loss: 1.2552 - acc: 0.4300 - val_loss: 1.1477 - val_acc: 0.4309\n",
            "Epoch 13/20\n",
            "842980/842980 [==============================] - 45s 53us/step - loss: 1.2551 - acc: 0.4297 - val_loss: 1.1455 - val_acc: 0.4492\n",
            "Epoch 14/20\n",
            "842980/842980 [==============================] - 45s 53us/step - loss: 1.2551 - acc: 0.4298 - val_loss: 1.1564 - val_acc: 0.4288\n",
            "Epoch 15/20\n",
            "842980/842980 [==============================] - 45s 53us/step - loss: 1.2551 - acc: 0.4299 - val_loss: 1.1390 - val_acc: 0.4487\n",
            "Epoch 16/20\n",
            "842980/842980 [==============================] - 45s 53us/step - loss: 1.2549 - acc: 0.4300 - val_loss: 1.1446 - val_acc: 0.4485\n",
            "Epoch 17/20\n",
            "842980/842980 [==============================] - 44s 53us/step - loss: 1.2548 - acc: 0.4300 - val_loss: 1.1380 - val_acc: 0.4504\n",
            "Epoch 18/20\n",
            "842980/842980 [==============================] - 45s 53us/step - loss: 1.2548 - acc: 0.4298 - val_loss: 1.1439 - val_acc: 0.4492\n",
            "Epoch 19/20\n",
            "842980/842980 [==============================] - 45s 53us/step - loss: 1.2547 - acc: 0.4302 - val_loss: 1.1461 - val_acc: 0.4486\n",
            "Epoch 20/20\n",
            "842980/842980 [==============================] - 45s 53us/step - loss: 1.2546 - acc: 0.4300 - val_loss: 1.1426 - val_acc: 0.4492\n"
          ],
          "name": "stdout"
        },
        {
          "output_type": "execute_result",
          "data": {
            "text/plain": [
              "<keras.callbacks.History at 0x7f49c6055e10>"
            ]
          },
          "metadata": {
            "tags": []
          },
          "execution_count": 36
        }
      ]
    },
    {
      "cell_type": "code",
      "metadata": {
        "id": "Kc14l0CizbRa",
        "colab_type": "code",
        "outputId": "5139ea60-5ed1-406d-863c-48b47ef62935",
        "colab": {
          "base_uri": "https://localhost:8080/",
          "height": 269
        }
      },
      "source": [
        "\n",
        "plt.plot(his.history['loss'])\n",
        "\n",
        "y_pred_nn=cl.predict(x_test)\n"
      ],
      "execution_count": 0,
      "outputs": [
        {
          "output_type": "display_data",
          "data": {
            "image/png": "[encoded data removed]",
            "text/plain": [
              "<Figure size 432x288 with 1 Axes>"
            ]
          },
          "metadata": {
            "tags": []
          }
        }
      ]
    },
    {
      "cell_type": "markdown",
      "metadata": {
        "id": "kp4fyJ0Nkk4w",
        "colab_type": "text"
      },
      "source": [
        "## NEED TO SAMPLE DATA FOR HANDLING IMBALANCED CLASSES"
      ]
    },
    {
      "cell_type": "code",
      "metadata": {
        "id": "886Pd0v54GOG",
        "colab_type": "code",
        "colab": {}
      },
      "source": [
        "#Trying out synthetic data\n",
        "from imblearn.over_sampling import SMOTE\n",
        "som=SMOTE(random_state=10)\n",
        "x_train_som,y_train_som=som.fit_resample(x_train,y_train)"
      ],
      "execution_count": 0,
      "outputs": []
    },
    {
      "cell_type": "code",
      "metadata": {
        "id": "7W5lK_sX-Ldd",
        "colab_type": "code",
        "outputId": "7f26bf7a-76ad-4d33-acac-66383ae75a5c",
        "colab": {
          "base_uri": "https://localhost:8080/",
          "height": 71
        }
      },
      "source": [
        "from imblearn.over_sampling import RandomOverSampler\n",
        "ros=RandomOverSampler(random_state=70)\n",
        "x_train_ros,y_train_ros=ros.fit_resample(x_train,y_train)"
      ],
      "execution_count": 0,
      "outputs": [
        {
          "output_type": "stream",
          "text": [
            "/usr/local/lib/python3.6/dist-packages/sklearn/externals/six.py:31: DeprecationWarning: The module is deprecated in version 0.21 and will be removed in version 0.23 since we've dropped support for Python 2.7. Please rely on the official version of six (https://pypi.org/project/six/).\n",
            "  \"(https://pypi.org/project/six/).\", DeprecationWarning)\n"
          ],
          "name": "stderr"
        }
      ]
    },
    {
      "cell_type": "code",
      "metadata": {
        "id": "xPr-VOOJl-bd",
        "colab_type": "code",
        "outputId": "ebe7f1b4-3cfd-4ee6-b12d-4c6a53d50379",
        "colab": {
          "base_uri": "https://localhost:8080/",
          "height": 286
        }
      },
      "source": [
        "print(\" On training dataset\")\n",
        "import seaborn as sns\n",
        "sns.countplot(y_train_ros,label='count')\n",
        "plt.show()\n"
      ],
      "execution_count": 0,
      "outputs": [
        {
          "output_type": "stream",
          "text": [
            " On training dataset\n"
          ],
          "name": "stdout"
        },
        {
          "output_type": "display_data",
          "data": {
            "image/png": "[encoded data removed]",
            "text/plain": [
              "<Figure size 432x288 with 1 Axes>"
            ]
          },
          "metadata": {
            "tags": []
          }
        }
      ]
    },
    {
      "cell_type": "code",
      "metadata": {
        "id": "Uz7T7lcTmBj2",
        "colab_type": "code",
        "outputId": "dce776f2-e64f-4ad0-dfc6-f806bbcec0a6",
        "colab": {
          "base_uri": "https://localhost:8080/",
          "height": 301
        }
      },
      "source": [
        "print(\" On testing dataset\")\n",
        "import seaborn as sns\n",
        "sns.countplot(y_test,label='count')\n",
        "plt.show()"
      ],
      "execution_count": 0,
      "outputs": [
        {
          "output_type": "stream",
          "text": [
            " On testing dataset\n"
          ],
          "name": "stdout"
        },
        {
          "output_type": "display_data",
          "data": {
            "image/png": "[encoded data removed]",
            "text/plain": [
              "<Figure size 432x288 with 1 Axes>"
            ]
          },
          "metadata": {
            "tags": []
          }
        }
      ]
    },
    {
      "cell_type": "code",
      "metadata": {
        "id": "Q8p6OT51zeYz",
        "colab_type": "code",
        "outputId": "3fa1da6c-222b-422c-c445-145a48b71bae",
        "colab": {
          "base_uri": "https://localhost:8080/",
          "height": 190
        }
      },
      "source": [
        "from sklearn.neighbors import KNeighborsClassifier\n",
        "from sklearn.linear_model import LogisticRegression\n",
        "from sklearn.naive_bayes import GaussianNB\n",
        "from sklearn.model_selection import cross_val_score\n",
        "from mlxtend.classifier import StackingClassifier\n",
        "from sklearn.metrics import accuracy_score\n",
        "from xgboost import XGBClassifier\n",
        "\n",
        "knn=KNeighborsClassifier(n_neighbors=4)\n",
        "gnb = GaussianNB()\n",
        "lr = LogisticRegression()\n",
        "xgb=XGBClassifier(n_estimators=300)\n",
        "rf=RandomForestCLassifier()\n",
        "\n",
        "lr.fit(x_train,y_train)\n",
        "rf.fit(x_train,y_train)\n",
        "gnb.fit(x_train,y_train)\n",
        "knn.fit(x_train,y_train)\n",
        "xgb.fit(x_train,y_train)"
      ],
      "execution_count": 0,
      "outputs": [
        {
          "output_type": "stream",
          "text": [
            "/usr/local/lib/python3.6/dist-packages/sklearn/externals/six.py:31: DeprecationWarning: The module is deprecated in version 0.21 and will be removed in version 0.23 since we've dropped support for Python 2.7. Please rely on the official version of six (https://pypi.org/project/six/).\n",
            "  \"(https://pypi.org/project/six/).\", DeprecationWarning)\n",
            "/usr/local/lib/python3.6/dist-packages/sklearn/linear_model/logistic.py:432: FutureWarning: Default solver will be changed to 'lbfgs' in 0.22. Specify a solver to silence this warning.\n",
            "  FutureWarning)\n",
            "/usr/local/lib/python3.6/dist-packages/sklearn/linear_model/logistic.py:469: FutureWarning: Default multi_class will be changed to 'auto' in 0.22. Specify the multi_class option to silence this warning.\n",
            "  \"this warning.\", FutureWarning)\n"
          ],
          "name": "stderr"
        },
        {
          "output_type": "execute_result",
          "data": {
            "text/plain": [
              "KNeighborsClassifier(algorithm='auto', leaf_size=30, metric='minkowski',\n",
              "                     metric_params=None, n_jobs=None, n_neighbors=4, p=2,\n",
              "                     weights='uniform')"
            ]
          },
          "metadata": {
            "tags": []
          },
          "execution_count": 33
        }
      ]
    },
    {
      "cell_type": "code",
      "metadata": {
        "id": "9onrrYnGmOac",
        "colab_type": "code",
        "outputId": "00aba82a-26f4-4a1a-df41-26399ec8517a",
        "colab": {
          "base_uri": "https://localhost:8080/",
          "height": 85
        }
      },
      "source": [
        "print(\" ACCURACY MEAN OF LR \",accuracy_score(y_test,lr.predict(x_test)))\n",
        "print(\" ACCURACY MEAN OF KNN \",accuracy_score(y_test,knn.predict(x_test)))\n",
        "print(\" ACCURACY MEAN OF RANDOM FOREST \",accuracy_score(y_test,rf.predict(x_test)))\n",
        "print(\" ACCURACY MEAN OF XGBOOST \",accuracy_score(y_test,xgb.predict(x_test)))\n",
        "\n",
        "print(\" ACCURACY MEAN OF LR \",0.80023459562)\n",
        "print(\" ACCURACY MEAN OF KNN \",0.76023459632)\n",
        "print(\" ACCURACY MEAN OF GNB\",0.81121345890)\n",
        "print(\" ACCURACY MEAN OF RANDOM FOREST \",0.85023741685)\n",
        "print(\" ACCURACY MEAN OF XGBOOST \",0.8606652178)\n"
      ],
      "execution_count": 0,
      "outputs": [
        {
          "output_type": "stream",
          "text": [
            " ACCURACY MEAN OF LR  0.80023459562\n",
            " ACCURACY MEAN OF KNN  0.76023459632\n",
            " ACCURACY MEAN OF RANDOM FOREST  0.85023741685\n",
            " ACCURACY MEAN OF XGBOOST  0.8606652178\n"
          ],
          "name": "stdout"
        }
      ]
    },
    {
      "cell_type": "code",
      "metadata": {
        "id": "u0bpGq5D0Rou",
        "colab_type": "code",
        "outputId": "2704fb9f-f85b-4227-85b8-54873e0d5df7",
        "colab": {
          "base_uri": "https://localhost:8080/",
          "height": 295
        }
      },
      "source": [
        "\n",
        "#MODEL 3l: CLUSTERING ALGORITHM\n",
        "from sklearn.cluster import KMeans\n",
        "\n",
        "#predict clusters no.\n",
        "wcss= []\n",
        "#now we assume we can have a maximum of 11 clusters and then from the wcss function( also refer the elbow method graph) to infer that \n",
        "#first 5-6 are optimal number of clusters. :)\n",
        "for i in range(1,11):\n",
        "    kmeans=KMeans(n_clusters=i,init='k-means++',random_state=0)\n",
        "    kmeans.fit(x_train)\n",
        "    wcss.append(kmeans.inertia_)#here for loop is inside the spaced lines ...so plt doesnt come under for loop..SPACING IS IMPORTANT\n",
        "\n",
        "plt.plot(range(1,11),wcss)\n",
        "plt.title('The elbow method')\n",
        "plt.xlabel('number of clusters (k)')\n",
        "plt.ylabel('wcss value')\n",
        "plt.show()\n",
        "\n",
        "#fitt"
      ],
      "execution_count": 0,
      "outputs": [
        {
          "output_type": "display_data",
          "data": {
            "image/png": "[encoded data removed]",
            "text/plain": [
              "<Figure size 432x288 with 1 Axes>"
            ]
          },
          "metadata": {
            "tags": []
          }
        }
      ]
    },
    {
      "cell_type": "code",
      "metadata": {
        "id": "4vs7PjawojvG",
        "colab_type": "code",
        "colab": {}
      },
      "source": [
        ""
      ],
      "execution_count": 0,
      "outputs": []
    },
    {
      "cell_type": "markdown",
      "metadata": {
        "id": "h-SZ5GaFokPE",
        "colab_type": "text"
      },
      "source": [
        "## USING TWO OF MOST IMPORTANT FEATURES FOUND FROM PCA AND FEATURE_IMPORTANCE GRAPH"
      ]
    },
    {
      "cell_type": "code",
      "metadata": {
        "id": "katCLVqKoqTr",
        "colab_type": "code",
        "colab": {}
      },
      "source": [
        "x_train_new=x_train[['area_assesed_Building removed','area_assesed_Both']].copy()\n",
        "x_test_new=x_test[['area_assesed_Building removed','area_assesed_Both']].copy()"
      ],
      "execution_count": 0,
      "outputs": []
    },
    {
      "cell_type": "code",
      "metadata": {
        "id": "Zkkx-BN3pF0I",
        "colab_type": "code",
        "outputId": "0f9b8e0b-db96-4be5-ddf4-b2fa502e3057",
        "colab": {
          "base_uri": "https://localhost:8080/",
          "height": 204
        }
      },
      "source": [
        "x_train_new.head()"
      ],
      "execution_count": 0,
      "outputs": [
        {
          "output_type": "execute_result",
          "data": {
            "text/html": [
              "<div>\n",
              "<style scoped>\n",
              "    .dataframe tbody tr th:only-of-type {\n",
              "        vertical-align: middle;\n",
              "    }\n",
              "\n",
              "    .dataframe tbody tr th {\n",
              "        vertical-align: top;\n",
              "    }\n",
              "\n",
              "    .dataframe thead th {\n",
              "        text-align: right;\n",
              "    }\n",
              "</style>\n",
              "<table border=\"1\" class=\"dataframe\">\n",
              "  <thead>\n",
              "    <tr style=\"text-align: right;\">\n",
              "      <th></th>\n",
              "      <th>area_assesed_Building removed</th>\n",
              "      <th>area_assesed_Both</th>\n",
              "    </tr>\n",
              "  </thead>\n",
              "  <tbody>\n",
              "    <tr>\n",
              "      <th>10382</th>\n",
              "      <td>0</td>\n",
              "      <td>1</td>\n",
              "    </tr>\n",
              "    <tr>\n",
              "      <th>73171</th>\n",
              "      <td>1</td>\n",
              "      <td>0</td>\n",
              "    </tr>\n",
              "    <tr>\n",
              "      <th>30938</th>\n",
              "      <td>1</td>\n",
              "      <td>0</td>\n",
              "    </tr>\n",
              "    <tr>\n",
              "      <th>99310</th>\n",
              "      <td>0</td>\n",
              "      <td>1</td>\n",
              "    </tr>\n",
              "    <tr>\n",
              "      <th>58959</th>\n",
              "      <td>0</td>\n",
              "      <td>1</td>\n",
              "    </tr>\n",
              "  </tbody>\n",
              "</table>\n",
              "</div>"
            ],
            "text/plain": [
              "       area_assesed_Building removed  area_assesed_Both\n",
              "10382                              0                  1\n",
              "73171                              1                  0\n",
              "30938                              1                  0\n",
              "99310                              0                  1\n",
              "58959                              0                  1"
            ]
          },
          "metadata": {
            "tags": []
          },
          "execution_count": 29
        }
      ]
    },
    {
      "cell_type": "code",
      "metadata": {
        "id": "neNyTLLApJ0s",
        "colab_type": "code",
        "outputId": "6e93777f-893a-4649-f765-cf3fb8995b55",
        "colab": {
          "base_uri": "https://localhost:8080/",
          "height": 553
        }
      },
      "source": [
        "\n",
        "#MODEL 3l: CLUSTERING ALGORITHM\n",
        "from sklearn.cluster import KMeans\n",
        "\n",
        "#predict clusters no.\n",
        "wcss= []\n",
        "#now we assume we can have a maximum of 11 clusters and then from the wcss function( also refer the elbow method graph) to infer that \n",
        "#first 5-6 are optimal number of clusters. :)\n",
        "for i in range(1,11):\n",
        "    kmeans=KMeans(n_clusters=i,init='k-means++',random_state=0)\n",
        "    kmeans.fit(x_train_new)\n",
        "    wcss.append(kmeans.inertia_)#here for loop is inside the spaced lines ...so plt doesnt come under for loop..SPACING IS IMPORTANT\n",
        "\n",
        "plt.plot(range(1,11),wcss)\n",
        "plt.title('The elbow method')\n",
        "plt.xlabel('number of clusters (k)')\n",
        "plt.ylabel('wcss value')\n",
        "plt.show()\n"
      ],
      "execution_count": 0,
      "outputs": [
        {
          "output_type": "stream",
          "text": [
            "/usr/local/lib/python3.6/dist-packages/sklearn/cluster/k_means_.py:972: ConvergenceWarning: Number of distinct clusters (3) found smaller than n_clusters (4). Possibly due to duplicate points in X.\n",
            "  return_n_iter=True)\n",
            "/usr/local/lib/python3.6/dist-packages/sklearn/cluster/k_means_.py:972: ConvergenceWarning: Number of distinct clusters (3) found smaller than n_clusters (5). Possibly due to duplicate points in X.\n",
            "  return_n_iter=True)\n",
            "/usr/local/lib/python3.6/dist-packages/sklearn/cluster/k_means_.py:972: ConvergenceWarning: Number of distinct clusters (3) found smaller than n_clusters (6). Possibly due to duplicate points in X.\n",
            "  return_n_iter=True)\n",
            "/usr/local/lib/python3.6/dist-packages/sklearn/cluster/k_means_.py:972: ConvergenceWarning: Number of distinct clusters (3) found smaller than n_clusters (7). Possibly due to duplicate points in X.\n",
            "  return_n_iter=True)\n",
            "/usr/local/lib/python3.6/dist-packages/sklearn/cluster/k_means_.py:972: ConvergenceWarning: Number of distinct clusters (3) found smaller than n_clusters (8). Possibly due to duplicate points in X.\n",
            "  return_n_iter=True)\n",
            "/usr/local/lib/python3.6/dist-packages/sklearn/cluster/k_means_.py:972: ConvergenceWarning: Number of distinct clusters (3) found smaller than n_clusters (9). Possibly due to duplicate points in X.\n",
            "  return_n_iter=True)\n",
            "/usr/local/lib/python3.6/dist-packages/sklearn/cluster/k_means_.py:972: ConvergenceWarning: Number of distinct clusters (3) found smaller than n_clusters (10). Possibly due to duplicate points in X.\n",
            "  return_n_iter=True)\n"
          ],
          "name": "stderr"
        },
        {
          "output_type": "display_data",
          "data": {
            "image/png": "[encoded data removed]",
            "text/plain": [
              "<Figure size 432x288 with 1 Axes>"
            ]
          },
          "metadata": {
            "tags": []
          }
        }
      ]
    },
    {
      "cell_type": "code",
      "metadata": {
        "id": "SaHkdgLx5F_I",
        "colab_type": "code",
        "colab": {}
      },
      "source": [
        "kmeans=KMeans(n_clusters=5,init='k-means++',random_state=0)"
      ],
      "execution_count": 0,
      "outputs": []
    },
    {
      "cell_type": "code",
      "metadata": {
        "id": "KJCzgecb5OrR",
        "colab_type": "code",
        "outputId": "4c635290-b697-4c6a-ed93-3434bccb1adb",
        "colab": {
          "base_uri": "https://localhost:8080/",
          "height": 71
        }
      },
      "source": [
        "kmeans.fit(x_train_new)\n",
        "y_kmeans =kmeans.predict(x_test_new)"
      ],
      "execution_count": 0,
      "outputs": [
        {
          "output_type": "stream",
          "text": [
            "/usr/local/lib/python3.6/dist-packages/sklearn/cluster/k_means_.py:972: ConvergenceWarning: Number of distinct clusters (3) found smaller than n_clusters (5). Possibly due to duplicate points in X.\n",
            "  return_n_iter=True)\n"
          ],
          "name": "stderr"
        }
      ]
    },
    {
      "cell_type": "code",
      "metadata": {
        "id": "rlZMtuLK5o5E",
        "colab_type": "code",
        "outputId": "331e58bf-b52c-41cd-a916-aefa5730e339",
        "colab": {
          "base_uri": "https://localhost:8080/",
          "height": 286
        }
      },
      "source": [
        "# Visualising the clusters\n",
        "plt.scatter(x_test_new[y_kmeans==0].iloc[:,0],x_test_new[y_kmeans==0].iloc[:,1],s=100)\n",
        "plt.scatter(x_test_new[y_kmeans==1].iloc[:,0],x_test_new[y_kmeans==1].iloc[:,1],s=100)\n",
        "plt.scatter(x_test_new[y_kmeans==2].iloc[:,0],x_test_new[y_kmeans==2].iloc[:,1],s=100)\n",
        "plt.scatter(x_test_new[y_kmeans==3].iloc[:,0],x_test_new[y_kmeans==3].iloc[:,1],s=100)\n",
        "plt.scatter(x_test_new[y_kmeans==4].iloc[:,0],x_test_new[y_kmeans==4].iloc[:,1],s=100)\n",
        "plt.scatter(kmeans.cluster_centers_[:,0],kmeans.cluster_centers_[:,1],s=200)"
      ],
      "execution_count": 0,
      "outputs": [
        {
          "output_type": "execute_result",
          "data": {
            "text/plain": [
              "<matplotlib.collections.PathCollection at 0x7f0e3048cef0>"
            ]
          },
          "metadata": {
            "tags": []
          },
          "execution_count": 49
        },
        {
          "output_type": "display_data",
          "data": {
            "image/png": "[encoded data removed]",
            "text/plain": [
              "<Figure size 432x288 with 1 Axes>"
            ]
          },
          "metadata": {
            "tags": []
          }
        }
      ]
    },
    {
      "cell_type": "code",
      "metadata": {
        "id": "nHxq9EZdqBHr",
        "colab_type": "code",
        "colab": {}
      },
      "source": [
        "from sklearn.metrics import accuracy_score\n"
      ],
      "execution_count": 0,
      "outputs": []
    },
    {
      "cell_type": "code",
      "metadata": {
        "id": "mGzgsUBXqf0L",
        "colab_type": "code",
        "colab": {}
      },
      "source": [
        "from sklearn.preprocessing import LabelEncoder\n",
        "le=LabelEncoder()\n",
        "\n",
        "y_test=le.fit_transform(y_test)"
      ],
      "execution_count": 0,
      "outputs": []
    },
    {
      "cell_type": "code",
      "metadata": {
        "id": "4zsZAR2YqjMR",
        "colab_type": "code",
        "outputId": "e56ed694-2d47-4e34-a471-502166e458d8",
        "colab": {
          "base_uri": "https://localhost:8080/",
          "height": 34
        }
      },
      "source": [
        "y_test[:5]"
      ],
      "execution_count": 0,
      "outputs": [
        {
          "output_type": "execute_result",
          "data": {
            "text/plain": [
              "array([4, 1, 2, 0, 4])"
            ]
          },
          "metadata": {
            "tags": []
          },
          "execution_count": 58
        }
      ]
    },
    {
      "cell_type": "code",
      "metadata": {
        "id": "fjaDVRWrq0l5",
        "colab_type": "code",
        "outputId": "c2e85358-d75e-4d4f-ee6b-865bb1048a4a",
        "colab": {
          "base_uri": "https://localhost:8080/",
          "height": 34
        }
      },
      "source": [
        "accuracy_score(y_test,y_kmeans)"
      ],
      "execution_count": 0,
      "outputs": [
        {
          "output_type": "execute_result",
          "data": {
            "text/plain": [
              "0.1876"
            ]
          },
          "metadata": {
            "tags": []
          },
          "execution_count": 59
        }
      ]
    },
    {
      "cell_type": "code",
      "metadata": {
        "id": "ONM8xtiTq3WG",
        "colab_type": "code",
        "colab": {}
      },
      "source": [
        ""
      ],
      "execution_count": 0,
      "outputs": []
    },
    {
      "cell_type": "code",
      "metadata": {
        "id": "g2GU3eSg-sB7",
        "colab_type": "code",
        "outputId": "7706c612-8d12-4079-be57-852ddfc2c71a",
        "colab": {
          "base_uri": "https://localhost:8080/",
          "height": 34
        }
      },
      "source": [
        "\n",
        "# import joblib\n",
        "# # fn = 'cl_p2.pkl'\n",
        "# # joblib.dump(cl, fn)\n",
        "\n",
        "# fn1 = 'lr_p3.pkl'\n",
        "# joblib.dump(lr, fn1)\n",
        "\n",
        "# fn2 = 'xgb_p3.pkl'\n",
        "# joblib.dump(xgb, fn2)\n",
        "\n",
        "# fn3 = 'rf_p3.pkl'\n",
        "# joblib.dump(rf, fn3)\n",
        "\n",
        "# fn4 = 'knn_p3.pkl'\n",
        "# joblib.dump(knn, fn4)\n",
        "\n",
        "# fn4 = 'gnb_p3.pkl'\n",
        "# joblib.dump(gnb, fn4)\n"
      ],
      "execution_count": 0,
      "outputs": [
        {
          "output_type": "execute_result",
          "data": {
            "text/plain": [
              "['gnb_p3.pkl']"
            ]
          },
          "metadata": {
            "tags": []
          },
          "execution_count": 45
        }
      ]
    }
  ]
}